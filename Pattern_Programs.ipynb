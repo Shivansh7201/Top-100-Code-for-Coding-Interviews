{
 "cells": [
  {
   "cell_type": "markdown",
   "metadata": {},
   "source": [
    "# Important Patterns Programs "
   ]
  },
  {
   "cell_type": "code",
   "execution_count": 2,
   "metadata": {},
   "outputs": [
    {
     "name": "stdout",
     "output_type": "stream",
     "text": [
      "* * * * * \n",
      "* * * * * \n",
      "* * * * * \n",
      "* * * * * \n",
      "* * * * * \n"
     ]
    }
   ],
   "source": [
    "# 5*5 matrix pattern\n",
    "\n",
    "for i in range(5):\n",
    "    for j in range(5):\n",
    "        print('*', end=' ')\n",
    "    print()\n",
    "#the dry run of the code is as follows  \n",
    "# i=0, j=0,1,2,3,4\n",
    "# i=1, j=0,1,2,3,4\n",
    "# i=2, j=0,1,2,3,4\n",
    "# i=3, j=0,1,2,3,4\n",
    "# i=4, j=0,1,2,3,4\n",
    "    "
   ]
  },
  {
   "cell_type": "code",
   "execution_count": 5,
   "metadata": {},
   "outputs": [
    {
     "name": "stdout",
     "output_type": "stream",
     "text": [
      "*\n",
      "**\n",
      "***\n",
      "****\n",
      "*****\n"
     ]
    }
   ],
   "source": [
    "# Triangle pattern\n",
    "\n",
    "for i in range(5):\n",
    "    for j in range(i+1):\n",
    "        print('*',end='')\n",
    "    print()   \n",
    "# The dry run of the above code is as follows:\n",
    "# i=0, j=0, print('*'), print('\\n')\n",
    "# i=1, j=0, print('*'), j=1, print('*'), print('\\n')\n",
    "# i=2, j=0, print('*'), j=1, print('*'), j=2, print('*'), print('\\n')\n",
    "# i=3, j=0, print('*'), j=1, print('*'), j=2, print('*'), j=3, print('*'), print('\\n')\n",
    "#   and so on              "
   ]
  },
  {
   "cell_type": "code",
   "execution_count": 6,
   "metadata": {},
   "outputs": [
    {
     "name": "stdout",
     "output_type": "stream",
     "text": [
      "*****\n",
      "****\n",
      "***\n",
      "**\n",
      "*\n",
      "*****\n",
      " ****\n",
      "  ***\n",
      "   **\n",
      "    *\n"
     ]
    }
   ],
   "source": [
    "# Reverse triangle pattern\n",
    "\n",
    "for i in range(5):\n",
    "    for j in range(5-i):\n",
    "        print('*',end='')\n",
    "    print()\n",
    "\n",
    "# The other way to print the reverse triangle pattern is as follows:\n",
    "for i in range(5):\n",
    "    for j in range(5):\n",
    "        if j<i:\n",
    "            print(' ',end='')\n",
    "        else:\n",
    "            print('*',end='')\n",
    "    print()"
   ]
  },
  {
   "cell_type": "code",
   "execution_count": 8,
   "metadata": {},
   "outputs": [
    {
     "name": "stdout",
     "output_type": "stream",
     "text": [
      "*   *\n",
      "*  *\n",
      "* *\n",
      "**\n",
      "*\n"
     ]
    }
   ],
   "source": [
    "# Hollow Triangle pattern\n",
    "\n",
    "for i in range(5):\n",
    "    for j in range(5-i):\n",
    "        if i==4 or j==0 or j==4-i:\n",
    "            print('*',end='')\n",
    "        else:\n",
    "            print(' ',end='')\n",
    "    print()\n",
    "\n",
    "\n",
    "  "
   ]
  },
  {
   "cell_type": "code",
   "execution_count": null,
   "metadata": {},
   "outputs": [],
   "source": []
  }
 ],
 "metadata": {
  "kernelspec": {
   "display_name": "Python 3",
   "language": "python",
   "name": "python3"
  },
  "language_info": {
   "codemirror_mode": {
    "name": "ipython",
    "version": 3
   },
   "file_extension": ".py",
   "mimetype": "text/x-python",
   "name": "python",
   "nbconvert_exporter": "python",
   "pygments_lexer": "ipython3",
   "version": "3.12.2"
  }
 },
 "nbformat": 4,
 "nbformat_minor": 2
}
